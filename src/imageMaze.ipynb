{
 "cells": [
  {
   "cell_type": "code",
   "execution_count": 1,
   "metadata": {},
   "outputs": [],
   "source": [
    "import numpy as np\n",
    "import PIL\n",
    "import pickle\n",
    "import time\n",
    "from PIL import Image\n",
    "from joblib import load\n",
    "from queue import Queue\n",
    "from threading import Thread"
   ]
  },
  {
   "cell_type": "code",
   "execution_count": 2,
   "metadata": {},
   "outputs": [],
   "source": [
    "class ImageMosaicApp :\n",
    "    \n",
    "    def __init__(self) :\n",
    "        self.tileSize = 16\n",
    "        self.maxThreads = 50\n",
    "        self.model = load('../bin/model.joblib')\n",
    "        with open('../data/dataset.pickle', 'rb') as handle:\n",
    "            self.data = pickle.load(handle)\n",
    "    \n",
    "    def getMaze(self, imgPath, imgGenSavePath) : \n",
    "        start_time = time.time()\n",
    "        resizedImg = self.__resize(imgPath)\n",
    "        expctedQueueSize = (self.cols/self.tileSize) * (self.rows/self.tileSize)\n",
    "        queue = Queue(maxsize=0)\n",
    "        self.__imgTileIndexesGenerator(queue, resizedImg)\n",
    "        imgGen = np.ndarray(shape=(self.rows, self.cols, 3), dtype=np.int8)\n",
    "        \n",
    "        for i in range(self.maxThreads) :\n",
    "            worker = Thread(target=self.__runTasksInQueue, args=(queue, resizedImg, imgGen))\n",
    "            worker.setDaemon(True) \n",
    "            worker.start()\n",
    "        queue.join()\n",
    "        \n",
    "        imgPil = Image.fromarray(imgGen, 'RGB')\n",
    "        imgPil.save(imgGenSavePath)\n",
    "        print(\"Image Maze generated and saved\")\n",
    "        print(\"--- {} tiles replaced in {} seconds ---\".format(expctedQueueSize, time.time() - start_time))\n",
    "    \n",
    "    def __imgTileIndexesGenerator(self, queue, imgArr) :\n",
    "        for i in range(0, self.rows, self.tileSize) :\n",
    "            for j in range(0, self.cols, self.tileSize) :\n",
    "                queue.put((i, j))\n",
    "    \n",
    "    def __runTasksInQueue(self, queue, imgArr, imgGen) :\n",
    "        while not queue.empty() :\n",
    "            indexes = queue.get()\n",
    "            self.__replaceChunk(indexes[0], indexes[1], imgArr, imgGen)\n",
    "            queue.task_done()\n",
    "    \n",
    "    def __replaceChunk(self, row, col, imgArr, imgGen) :\n",
    "        chunk = imgArr[:, row:row+self.tileSize, col:col+self.tileSize].flatten()\n",
    "        nnIndex = self.model.kneighbors(np.expand_dims(chunk, axis=0), return_distance=False)\n",
    "        imgGen[row:row+self.tileSize, col:col+self.tileSize, :] = np.transpose(np.reshape(self.data[nnIndex[0][0]], (3, self.tileSize, self.tileSize)), (1, 2, 0))\n",
    "    \n",
    "    def __resize(self, imgPath) :\n",
    "        img = Image.open(imgPath)\n",
    "        self.cols = int(img.width / self.tileSize) * self.tileSize\n",
    "        self.rows = int(img.height / self.tileSize) * self.tileSize\n",
    "        img = img.resize((self.cols, self.rows))\n",
    "        imgData = np.array(img)\n",
    "        imgData = imgData[...,:3]\n",
    "        return np.transpose(imgData, (2, 0, 1))\n",
    "        "
   ]
  },
  {
   "cell_type": "code",
   "execution_count": 3,
   "metadata": {},
   "outputs": [
    {
     "name": "stdout",
     "output_type": "stream",
     "text": [
      "model ready\n"
     ]
    }
   ],
   "source": [
    "mazeApp = ImageMosaicApp()\n",
    "print(\"model ready\")"
   ]
  },
  {
   "cell_type": "code",
   "execution_count": 6,
   "metadata": {},
   "outputs": [
    {
     "name": "stdout",
     "output_type": "stream",
     "text": [
      "Image Maze generated and saved\n",
      "--- 2480.0 tiles replaced in 90.13449192047119 seconds ---\n",
      "Image Maze generated and saved\n",
      "--- 4704.0 tiles replaced in 166.65243220329285 seconds ---\n",
      "Image Maze generated and saved\n",
      "--- 1500.0 tiles replaced in 60.01042175292969 seconds ---\n",
      "Image Maze generated and saved\n",
      "--- 2074.0 tiles replaced in 79.38735437393188 seconds ---\n",
      "Image Maze generated and saved\n",
      "--- 6300.0 tiles replaced in 226.35945916175842 seconds ---\n",
      "Image Maze generated and saved\n",
      "--- 187.0 tiles replaced in 6.674035549163818 seconds ---\n",
      "Image Maze generated and saved\n",
      "--- 2464.0 tiles replaced in 101.95076966285706 seconds ---\n"
     ]
    }
   ],
   "source": [
    "mazeApp.getMaze('../data/testImg1.jpg', '../data/testImgGen1.jpg')\n",
    "mazeApp.getMaze('../data/testImg2.jpg', '../data/testImgGen2.jpg')\n",
    "mazeApp.getMaze('../data/testImg3.jpg', '../data/testImgGen3.jpg')\n",
    "mazeApp.getMaze('../data/testImg4.jpg', '../data/testImgGen4.jpg')\n",
    "mazeApp.getMaze('../data/testImg5.jpg', '../data/testImgGen5.jpg')\n",
    "mazeApp.getMaze('../data/testImg6.jpeg', '../data/testImgGen6.jpeg')\n",
    "mazeApp.getMaze('../data/testImg7.jpg', '../data/testImgGen7.jpg')"
   ]
  },
  {
   "cell_type": "code",
   "execution_count": null,
   "metadata": {},
   "outputs": [],
   "source": []
  }
 ],
 "metadata": {
  "kernelspec": {
   "display_name": "Python 3",
   "language": "python",
   "name": "python3"
  },
  "language_info": {
   "codemirror_mode": {
    "name": "ipython",
    "version": 3
   },
   "file_extension": ".py",
   "mimetype": "text/x-python",
   "name": "python",
   "nbconvert_exporter": "python",
   "pygments_lexer": "ipython3",
   "version": "3.7.3"
  }
 },
 "nbformat": 4,
 "nbformat_minor": 4
}
