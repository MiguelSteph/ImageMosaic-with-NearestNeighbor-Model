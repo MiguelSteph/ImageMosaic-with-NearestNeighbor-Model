{
 "cells": [
  {
   "cell_type": "code",
   "execution_count": 1,
   "metadata": {},
   "outputs": [],
   "source": [
    "import pickle\n",
    "import numpy as np\n",
    "from PIL import Image\n",
    "import matplotlib.pyplot as plt"
   ]
  },
  {
   "cell_type": "code",
   "execution_count": 2,
   "metadata": {},
   "outputs": [],
   "source": [
    "def unpickle(file):\n",
    "    with open(file, 'rb') as fo:\n",
    "        dictData = pickle.load(fo, encoding='bytes')\n",
    "    return dictData[b'data']"
   ]
  },
  {
   "cell_type": "code",
   "execution_count": 3,
   "metadata": {},
   "outputs": [
    {
     "name": "stdout",
     "output_type": "stream",
     "text": [
      "Total number of images is 60000\n"
     ]
    }
   ],
   "source": [
    "dataFiles = ['../data/cifar-100-python/train', '../data/cifar-100-python/test']\n",
    "data = []\n",
    "data.extend(unpickle(dataFiles[0]))\n",
    "data.extend(unpickle(dataFiles[1]))\n",
    "print(\"Total number of images is {}\".format(len(data)))"
   ]
  },
  {
   "cell_type": "code",
   "execution_count": 4,
   "metadata": {},
   "outputs": [],
   "source": [
    "def displayImg(imgData, imgSize) :\n",
    "    plt.imshow(np.transpose(np.reshape(imgData, (3, imgSize, imgSize)), (1, 2, 0)))\n",
    "    plt.show()"
   ]
  },
  {
   "cell_type": "code",
   "execution_count": 5,
   "metadata": {},
   "outputs": [
    {
     "data": {
      "image/png": "[encoded data removed]",
      "text/plain": [
       "<Figure size 432x288 with 1 Axes>"
      ]
     },
     "metadata": {
      "needs_background": "light"
     },
     "output_type": "display_data"
    }
   ],
   "source": [
    "displayImg(data[2], 32)"
   ]
  },
  {
   "cell_type": "code",
   "execution_count": 6,
   "metadata": {},
   "outputs": [],
   "source": [
    "def resizeImgTo16(imgData) :\n",
    "    img = Image.fromarray(imgData, 'RGB')\n",
    "    img = img.resize((16, 16))\n",
    "    imgData = np.array(img)\n",
    "    return np.transpose(imgData, (2, 0, 1)).flatten()"
   ]
  },
  {
   "cell_type": "code",
   "execution_count": 7,
   "metadata": {},
   "outputs": [
    {
     "name": "stdout",
     "output_type": "stream",
     "text": [
      "Total number of images is 60000\n"
     ]
    }
   ],
   "source": [
    "resizedData = []\n",
    "for item in data :\n",
    "    resizedData.append(resizeImgTo16(np.transpose(np.reshape(item, (3, 32, 32)), (1, 2, 0))))\n",
    "print(\"Total number of images is {}\".format(len(resizedData)))"
   ]
  },
  {
   "cell_type": "code",
   "execution_count": 8,
   "metadata": {},
   "outputs": [
    {
     "data": {
      "image/png": "[encoded data removed]",
      "text/plain": [
       "<Figure size 432x288 with 1 Axes>"
      ]
     },
     "metadata": {
      "needs_background": "light"
     },
     "output_type": "display_data"
    }
   ],
   "source": [
    "displayImg(resizedData[2], 16)"
   ]
  },
  {
   "cell_type": "code",
   "execution_count": 9,
   "metadata": {},
   "outputs": [
    {
     "name": "stdout",
     "output_type": "stream",
     "text": [
      "Dataset saved\n"
     ]
    }
   ],
   "source": [
    "with open('../data/dataset.pickle', 'wb') as handle:\n",
    "    pickle.dump(resizedData, handle, protocol=pickle.HIGHEST_PROTOCOL)\n",
    "print(\"Dataset saved\")"
   ]
  },
  {
   "cell_type": "code",
   "execution_count": null,
   "metadata": {},
   "outputs": [],
   "source": []
  }
 ],
 "metadata": {
  "kernelspec": {
   "display_name": "Python 3",
   "language": "python",
   "name": "python3"
  },
  "language_info": {
   "codemirror_mode": {
    "name": "ipython",
    "version": 3
   },
   "file_extension": ".py",
   "mimetype": "text/x-python",
   "name": "python",
   "nbconvert_exporter": "python",
   "pygments_lexer": "ipython3",
   "version": "3.7.3"
  }
 },
 "nbformat": 4,
 "nbformat_minor": 4
}
