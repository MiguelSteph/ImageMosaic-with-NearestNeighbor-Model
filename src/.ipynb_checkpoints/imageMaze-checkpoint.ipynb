{
 "cells": [
  {
   "cell_type": "code",
   "execution_count": 1,
   "metadata": {},
   "outputs": [],
   "source": [
    "import numpy as np\n",
    "import PIL\n",
    "import pickle\n",
    "import time\n",
    "from PIL import Image\n",
    "from joblib import load\n",
    "from queue import Queue\n",
    "from threading import Thread"
   ]
  },
  {
   "cell_type": "code",
   "execution_count": 2,
   "metadata": {},
   "outputs": [],
   "source": [
    "class ImageMosaicApp :\n",
    "    \n",
    "    def __init__(self) :\n",
    "        self.tileSize = 16\n",
    "        self.maxThreads = 50\n",
    "        self.model = load('../bin/model.joblib')\n",
    "        with open('../data/dataset.pickle', 'rb') as handle:\n",
    "            self.data = pickle.load(handle)\n",
    "    \n",
    "    def getMaze(self, imgPath, imgGenSavePath) : \n",
    "        start_time = time.time()\n",
    "        resizedImg = self.__resize(imgPath)\n",
    "        expctedQueueSize = (self.cols/self.tileSize) * (self.rows/self.tileSize)\n",
    "        queue = Queue(maxsize=0)\n",
    "        self.__imgTileIndexesGenerator(queue, resizedImg)\n",
    "        imgGen = np.ndarray(shape=(self.rows, self.cols, 3), dtype=np.int8)\n",
    "        \n",
    "        for i in range(self.maxThreads) :\n",
    "            worker = Thread(target=self.__runTasksInQueue, args=(queue, resizedImg, imgGen))\n",
    "            worker.setDaemon(True) \n",
    "            worker.start()\n",
    "        queue.join()\n",
    "        \n",
    "        imgPil = Image.fromarray(imgGen, 'RGB')\n",
    "        imgPil.save(imgGenSavePath)\n",
    "        print(\"Image Maze generated and saved\")\n",
    "        print(\"--- {} tiles replaced in {} seconds ---\".format(expctedQueueSize, time.time() - start_time))\n",
    "    \n",
    "    def __imgTileIndexesGenerator(self, queue, imgArr) :\n",
    "        for i in range(0, self.rows, self.tileSize) :\n",
    "            for j in range(0, self.cols, self.tileSize) :\n",
    "                queue.put((i, j))\n",
    "    \n",
    "    def __runTasksInQueue(self, queue, imgArr, imgGen) :\n",
    "        while not queue.empty() :\n",
    "            indexes = queue.get()\n",
    "            self.__replaceChunk(indexes[0], indexes[1], imgArr, imgGen)\n",
    "            queue.task_done()\n",
    "    \n",
    "    def __replaceChunk(self, row, col, imgArr, imgGen) :\n",
    "        chunk = imgArr[:, row:row+self.tileSize, col:col+self.tileSize].flatten()\n",
    "        nnIndex = self.model.kneighbors(np.expand_dims(chunk, axis=0), return_distance=False)\n",
    "        imgGen[row:row+self.tileSize, col:col+self.tileSize, :] = np.transpose(np.reshape(self.data[nnIndex[0][0]], (3, self.tileSize, self.tileSize)), (1, 2, 0))\n",
    "    \n",
    "    def __resize(self, imgPath) :\n",
    "        img = Image.open(imgPath)\n",
    "        self.cols = int(img.width / self.tileSize) * self.tileSize\n",
    "        self.rows = int(img.height / self.tileSize) * self.tileSize\n",
    "        img = img.resize((self.cols, self.rows))\n",
    "        imgData = np.array(img)\n",
    "        imgData = imgData[...,:3]\n",
    "        return np.transpose(imgData, (2, 0, 1))\n",
    "        "
   ]
  },
  {
   "cell_type": "code",
   "execution_count": 3,
   "metadata": {},
   "outputs": [
    {
     "name": "stdout",
     "output_type": "stream",
     "text": [
      "model ready\n"
     ]
    }
   ],
   "source": [
    "mazeApp = ImageMosaicApp()\n",
    "print(\"model ready\")"
   ]
  },
  {
   "cell_type": "code",
   "execution_count": 5,
   "metadata": {},
   "outputs": [
    {
     "name": "stdout",
     "output_type": "stream",
     "text": [
      "Image Maze generated and saved\n",
      "--- 198.0 tiles replaced in 6.8017988204956055 seconds ---\n",
      "Image Maze generated and saved\n",
      "--- 216.0 tiles replaced in 6.465606927871704 seconds ---\n",
      "Image Maze generated and saved\n",
      "--- 180.0 tiles replaced in 5.465327978134155 seconds ---\n",
      "Image Maze generated and saved\n",
      "--- 270.0 tiles replaced in 8.745258808135986 seconds ---\n",
      "Image Maze generated and saved\n",
      "--- 180.0 tiles replaced in 7.266806364059448 seconds ---\n",
      "Image Maze generated and saved\n",
      "--- 180.0 tiles replaced in 6.673941135406494 seconds ---\n",
      "Image Maze generated and saved\n",
      "--- 216.0 tiles replaced in 8.125122785568237 seconds ---\n"
     ]
    }
   ],
   "source": [
    "mazeApp.getMaze('../data/testImg1.jpg', '../data/testImgGen1.jpg')\n",
    "mazeApp.getMaze('../data/testImg2.jpg', '../data/testImgGen2.jpg')\n",
    "mazeApp.getMaze('../data/testImg3.jpg', '../data/testImgGen3.jpg')\n",
    "mazeApp.getMaze('../data/testImg4.jpg', '../data/testImgGen4.jpg')\n",
    "mazeApp.getMaze('../data/testImg5.jpg', '../data/testImgGen5.jpg')\n",
    "mazeApp.getMaze('../data/testImg6.jpeg', '../data/testImgGen6.jpeg')\n",
    "mazeApp.getMaze('../data/testImg7.jpg', '../data/testImgGen7.jpg')"
   ]
  },
  {
   "cell_type": "code",
   "execution_count": null,
   "metadata": {},
   "outputs": [],
   "source": []
  }
 ],
 "metadata": {
  "kernelspec": {
   "display_name": "Python 3",
   "language": "python",
   "name": "python3"
  },
  "language_info": {
   "codemirror_mode": {
    "name": "ipython",
    "version": 3
   },
   "file_extension": ".py",
   "mimetype": "text/x-python",
   "name": "python",
   "nbconvert_exporter": "python",
   "pygments_lexer": "ipython3",
   "version": "3.7.3"
  }
 },
 "nbformat": 4,
 "nbformat_minor": 4
}
